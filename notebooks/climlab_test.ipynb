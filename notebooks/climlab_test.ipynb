{
 "cells": [
  {
   "cell_type": "code",
   "execution_count": 1,
   "metadata": {},
   "outputs": [
    {
     "name": "stderr",
     "output_type": "stream",
     "text": [
      "/home/hdrake/.conda/envs/pyradsmip/lib/python3.7/site-packages/climlab/radiation/cam3/cam3.py:67: UserWarning: Cannot import and initialize compiled Fortran extension, CAM3 module will not be functional.\n",
      "  warnings.warn('Cannot import and initialize compiled Fortran extension, CAM3 module will not be functional.')\n"
     ]
    }
   ],
   "source": [
    "import climlab"
   ]
  },
  {
   "cell_type": "code",
   "execution_count": 2,
   "metadata": {},
   "outputs": [
    {
     "name": "stdout",
     "output_type": "stream",
     "text": [
      "Opened data from /home/hdrake/.conda/envs/pyradsmip/lib/python3.7/site-packages/climlab/radiation/data/ozone/apeozone_cam3_5_54.nc\n",
      "Integrating for 1826 steps, 1826.2110000000002 days, or 5 years.\n",
      "Total elapsed time is 4.999422301147019 years.\n",
      "[1.30841306e-05]\n"
     ]
    }
   ],
   "source": [
    "alb = 0.25\n",
    "#  State variables (Air and surface temperature)\n",
    "state = climlab.column_state(num_lev=30)\n",
    "#  Parent model process\n",
    "rcm = climlab.TimeDependentProcess(state=state)\n",
    "#  Fixed relative humidity\n",
    "h2o = climlab.radiation.ManabeWaterVapor(state=state)\n",
    "#  Couple water vapor to radiation\n",
    "rad = climlab.radiation.RRTMG(state=state, specific_humidity=h2o.q, albedo=alb)\n",
    "#  Convective adjustment\n",
    "conv = climlab.convection.ConvectiveAdjustment(state=state, adj_lapse_rate=6.5)\n",
    "#  Couple everything together\n",
    "rcm.add_subprocess('Radiation', rad)\n",
    "rcm.add_subprocess('WaterVapor', h2o)\n",
    "rcm.add_subprocess('Convection', conv)\n",
    "#  Run the model\n",
    "rcm.integrate_years(5)\n",
    "#  Check for energy balance\n",
    "print(rcm.ASR - rcm.OLR)"
   ]
  },
  {
   "cell_type": "code",
   "execution_count": 80,
   "metadata": {},
   "outputs": [
    {
     "name": "stdout",
     "output_type": "stream",
     "text": [
      "Opened data from /home/hdrake/.conda/envs/pyradsmip/lib/python3.7/site-packages/climlab/radiation/data/ozone/apeozone_cam3_5_54.nc\n"
     ]
    }
   ],
   "source": [
    "alb = 1.\n",
    "#  State variables (Air and surface temperature)\n",
    "state = climlab.column_state(num_lev=30)\n",
    "#  Parent model process\n",
    "rcm = climlab.TimeDependentProcess(state=state)\n",
    "#  Fixed relative humidity\n",
    "h2o = climlab.radiation.ManabeWaterVapor(state=state)\n",
    "#  Couple water vapor to radiation\n",
    "rad = climlab.radiation.RRTMG(state=state, specific_humidity=h2o.q, albedo=alb)\n",
    "\n",
    "rcm.add_subprocess('Radiation', rad)\n",
    "rcm.compute()\n",
    "\n",
    "rcmx = rcm.to_xarray(rcm.diagnostics)"
   ]
  },
  {
   "cell_type": "code",
   "execution_count": 81,
   "metadata": {},
   "outputs": [
    {
     "data": {
      "text/plain": [
       "<xarray.Dataset>\n",
       "Dimensions:           (depth: 1, depth_bounds: 2, lev: 30, lev_bounds: 31)\n",
       "Coordinates:\n",
       "  * depth             (depth) float64 0.5\n",
       "  * depth_bounds      (depth_bounds) float64 0.0 1.0\n",
       "  * lev               (lev) float64 16.67 50.0 83.33 116.7 ... 916.7 950.0 983.3\n",
       "  * lev_bounds        (lev_bounds) float64 0.0 33.33 66.67 ... 933.3 966.7 1e+03\n",
       "Data variables:\n",
       "    Ts                (depth) float64 288.0\n",
       "    Tatm              (lev) float64 200.0 202.7 205.4 ... 272.6 275.3 278.0\n",
       "    OLR               (depth) float64 240.3\n",
       "    OLRclr            (depth) float64 240.3\n",
       "    OLRcld            (depth) float64 0.0\n",
       "    TdotLW            (lev) float64 -2.001 -0.7102 -0.6315 ... -1.008 -0.02865\n",
       "    TdotLW_clr        (lev) float64 -2.001 -0.7102 -0.6315 ... -1.008 -0.02865\n",
       "    LW_sfc            (depth) float64 132.4\n",
       "    LW_sfc_clr        (depth) float64 132.4\n",
       "    LW_flux_up        (lev_bounds) float64 240.3 242.7 245.2 ... 362.4 390.1\n",
       "    LW_flux_down      (lev_bounds) float64 0.0 10.28 15.62 ... 216.9 229.9 257.7\n",
       "    LW_flux_net       (lev_bounds) float64 240.3 232.4 229.6 ... 132.5 132.4\n",
       "    LW_flux_up_clr    (lev_bounds) float64 240.3 242.7 245.2 ... 362.4 390.1\n",
       "    LW_flux_down_clr  (lev_bounds) float64 0.0 10.28 15.62 ... 216.9 229.9 257.7\n",
       "    LW_flux_net_clr   (lev_bounds) float64 240.3 232.4 229.6 ... 132.5 132.4\n",
       "    ASR               (depth) float64 83.45\n",
       "    ASRclr            (depth) float64 83.45\n",
       "    ASRcld            (depth) float64 0.0\n",
       "    TdotSW            (lev) float64 4.265 0.9583 0.4947 ... 0.8627 0.9265 1.003\n",
       "    TdotSW_clr        (lev) float64 4.265 0.9583 0.4947 ... 0.8627 0.9265 1.003\n",
       "    SW_sfc            (depth) float64 -2.842e-14\n",
       "    SW_sfc_clr        (depth) float64 -2.842e-14\n",
       "    SW_flux_up        (lev_bounds) float64 257.8 258.9 258.4 ... 244.2 245.0\n",
       "    SW_flux_down      (lev_bounds) float64 341.3 325.5 321.2 ... 248.2 245.0\n",
       "    SW_flux_net       (lev_bounds) float64 83.45 66.59 ... 3.964 -2.842e-14\n",
       "    SW_flux_up_clr    (lev_bounds) float64 257.8 258.9 258.4 ... 244.2 245.0\n",
       "    SW_flux_down_clr  (lev_bounds) float64 341.3 325.5 321.2 ... 248.2 245.0\n",
       "    SW_flux_net_clr   (lev_bounds) float64 83.45 66.59 ... 3.964 -2.842e-14"
      ]
     },
     "execution_count": 81,
     "metadata": {},
     "output_type": "execute_result"
    }
   ],
   "source": [
    "rcmx"
   ]
  },
  {
   "cell_type": "code",
   "execution_count": null,
   "metadata": {},
   "outputs": [],
   "source": []
  }
 ],
 "metadata": {
  "kernelspec": {
   "display_name": "Python 3",
   "language": "python",
   "name": "python3"
  },
  "language_info": {
   "codemirror_mode": {
    "name": "ipython",
    "version": 3
   },
   "file_extension": ".py",
   "mimetype": "text/x-python",
   "name": "python",
   "nbconvert_exporter": "python",
   "pygments_lexer": "ipython3",
   "version": "3.7.3"
  }
 },
 "nbformat": 4,
 "nbformat_minor": 2
}

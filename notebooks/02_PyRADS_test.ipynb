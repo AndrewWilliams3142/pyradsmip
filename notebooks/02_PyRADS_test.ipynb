{
 "cells": [
  {
   "cell_type": "code",
   "execution_count": 14,
   "metadata": {},
   "outputs": [],
   "source": [
    "import sys\n",
    "sys.path.append(\"../\")\n",
    "import pyradsmip\n",
    "from pyradsmip import pyrads\n",
    "import numpy as np\n",
    "from scipy.integrate import trapz,simps,cumtrapz"
   ]
  },
  {
   "cell_type": "code",
   "execution_count": 25,
   "metadata": {},
   "outputs": [],
   "source": [
    "class Dummy:\n",
    "    pass\n",
    "\n",
    "params = Dummy()\n",
    "\n",
    "params.Rv = pyrads.phys.H2O.R # moist component\n",
    "params.cpv = pyrads.phys.H2O.cp\n",
    "params.Lvap = pyrads.phys.H2O.L_vaporization_TriplePoint\n",
    "params.satvap_T0 = pyrads.phys.H2O.TriplePointT\n",
    "params.satvap_e0 = pyrads.phys.H2O.TriplePointP\n",
    "params.esat = lambda T: pyrads.Thermodynamics.get_satvps(T,params.satvap_T0,params.satvap_e0,params.Rv,params.Lvap)\n",
    "\n",
    "params.R = pyrads.phys.air.R  # dry component\n",
    "params.cp = pyrads.phys.air.cp\n",
    "params.ps_dry = 1e5           # surface pressure of dry component\n",
    "\n",
    "params.g = 9.8             # surface gravity\n",
    "params.cosThetaBar = 3./5. # average zenith angle used in 2stream eqns\n",
    "params.RH = 1.             # relative humidity\n",
    "\n",
    "# setup resolution\n",
    "N_press = 15\n",
    "dwavenr = 0.1\n",
    "\n",
    "wavenr_min = 0.1   # [cm^-1]\n",
    "wavenr_max = 3500. #\n",
    "\n",
    "Tstrat = 150.      # stratospheric temperature\n",
    "Ts = 300.\n",
    "\n",
    "# setup grid:\n",
    "g = pyrads.SetupGrids.make_grid( Ts,Tstrat,N_press,wavenr_min,wavenr_max,dwavenr,params, RH=params.RH )"
   ]
  },
  {
   "cell_type": "code",
   "execution_count": 27,
   "metadata": {},
   "outputs": [
    {
     "name": "stdout",
     "output_type": "stream",
     "text": [
      "compute kappa at p,T =  10.358134708328855 150.0\n",
      "compute kappa at p,T =  19.99842715683728 150.0\n",
      "compute kappa at p,T =  38.610917892942844 150.0\n",
      "compute kappa at p,T =  74.54601148600246 150.0\n",
      "compute kappa at p,T =  143.92581507332955 150.0\n",
      "compute kappa at p,T =  277.877244289748 150.0\n",
      "compute kappa at p,T =  536.4969644585528 150.0\n",
      "compute kappa at p,T =  1035.8134708328855 150.0\n",
      "compute kappa at p,T =  1999.842715683728 150.0\n",
      "compute kappa at p,T =  3861.0917892942844 150.0\n",
      "compute kappa at p,T =  7454.601148600237 172.28628151273767\n",
      "compute kappa at p,T =  14392.581507332956 207.7982782533632\n",
      "compute kappa at p,T =  27787.724428974798 246.63230604746863\n",
      "compute kappa at p,T =  53649.69644585523 276.90876054505844\n",
      "compute kappa at p,T =  103581.34708328855 299.99999999999994\n",
      "done! \n",
      "\n",
      "OLR =  279.5793345129229\n"
     ]
    }
   ],
   "source": [
    "# compute optical thickness:\n",
    "#   -> this is the computationally most intensive step\n",
    "g.tau = pyrads.OpticalThickness.compute_tau_H2ON2(g.p,g.T,g.q,g,params, RH=params.RH )\n",
    "\n",
    "# compute Planck functions etc:\n",
    "T_2D = np.transpose(np.tile( g.T, (g.Nn,1) )) # shape=(g.p,g.n)\n",
    "g.B_surf = np.pi* pyrads.Planck.Planck_n( g.n,Ts ) # shape=(g.n)\n",
    "g.B = np.pi* pyrads.Planck.Planck_n( g.wave, T_2D ) # shape=(g.p,g.n)\n",
    "\n",
    "# compute OLR etc:\n",
    "olr_spec = pyrads.Get_Fluxes.Fplus_alternative(0,g) # (spectrally resolved=irradiance)\n",
    "olr = simps(olr_spec,g.n)\n",
    "\n",
    "print( \"OLR = \",olr)\n"
   ]
  },
  {
   "cell_type": "code",
   "execution_count": null,
   "metadata": {},
   "outputs": [],
   "source": []
  }
 ],
 "metadata": {
  "kernelspec": {
   "display_name": "Python 3",
   "language": "python",
   "name": "python3"
  },
  "language_info": {
   "codemirror_mode": {
    "name": "ipython",
    "version": 3
   },
   "file_extension": ".py",
   "mimetype": "text/x-python",
   "name": "python",
   "nbconvert_exporter": "python",
   "pygments_lexer": "ipython3",
   "version": "3.7.3"
  }
 },
 "nbformat": 4,
 "nbformat_minor": 2
}
